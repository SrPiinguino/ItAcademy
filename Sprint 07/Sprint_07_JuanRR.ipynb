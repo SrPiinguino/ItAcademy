{
 "cells": [
  {
   "cell_type": "markdown",
   "id": "f1829c16-1ccd-45f9-b778-9cb7039b8900",
   "metadata": {},
   "source": [
    "# Sprint 07 - "
   ]
  },
  {
   "cell_type": "markdown",
   "id": "fccec6e5-d0fc-4b10-a826-0a4e7103fc0a",
   "metadata": {},
   "source": [
    "## Nivel 01"
   ]
  },
  {
   "cell_type": "markdown",
   "id": "8412b94c-7fd1-48d6-817b-0aea48d5dd86",
   "metadata": {},
   "source": [
    "### Ex01 - Calculadora de l'índex de massa corporal\n",
    "Escriu una funció que calculi l'IMC ingressat per l'usuari/ària, és a dir, qui ho executi haurà d'ingressar aquestes dades.\n",
    "La funció ha de classificar el resultat en les seves respectives categories\n"
   ]
  },
  {
   "cell_type": "code",
   "execution_count": 1,
   "id": "e8a94ab8-68ec-4be1-a332-8fc0df24a994",
   "metadata": {},
   "outputs": [
    {
     "name": "stdin",
     "output_type": "stream",
     "text": [
      "Introduce tu peso en KG 70\n",
      "Introduce tu altura en Metros 1.80\n"
     ]
    },
    {
     "name": "stdout",
     "output_type": "stream",
     "text": [
      "Tu IMC es: 21.60 Tu categoria de IMC esta dentro de: Peso normal\n"
     ]
    }
   ],
   "source": [
    "def imc_calculo(peso,altura) :\n",
    "    categorias_de_peso = {\n",
    "        \"Bajo peso\": (1, 18.5),\n",
    "        \"Peso normal\": (18.5, 24.9),\n",
    "        \"Sobrepeso\": (25, 29.9),\n",
    "        \"Obesidad\": (30, 999)\n",
    "    }\n",
    "\n",
    "    IMC= peso / (altura ** 2)\n",
    "    imc_redondeado = f\"{IMC:.2f}\"\n",
    "    \n",
    "    for categoria, (minimo, maximo) in categorias_de_peso.items():\n",
    "     if minimo<= IMC <= maximo:\n",
    "         return imc_redondeado, categoria\n",
    "    return imc_redondeado, \"Fuera de rango\"\n",
    "\n",
    "peso=float(input(\"Introduce tu peso en KG\"))\n",
    "altura=float(input(\"Introduce tu altura en Metros\"))\n",
    "\n",
    "imc_redondeado, resultado = imc_calculo(peso, altura)\n",
    "print(\"Tu IMC es:\", imc_redondeado, \"Tu categoria de IMC esta dentro de:\", resultado)"
   ]
  },
  {
   "cell_type": "markdown",
   "id": "ba897486-4c67-41da-8a0a-e716d5a05b17",
   "metadata": {},
   "source": [
    "### Ex02 - Convertidor de temperatures.\n",
    "Existeixen diverses unitats de temperatura utilitzades en diferents contextos i regions. Les més comunes són Celsius (°C), Fahrenheit (°F) i Kelvin (K). També existeixen altres unitats com Rankine (°Ra) i Réaumur (°Re). Selecciona almenys 2 i construeix el convertidor."
   ]
  },
  {
   "cell_type": "code",
   "execution_count": 2,
   "id": "9700e77c-f178-488e-8ad4-954a8d740edb",
   "metadata": {},
   "outputs": [
    {
     "name": "stdin",
     "output_type": "stream",
     "text": [
      "Introduce el número correspondiente a la unidad de temperatura de origen\n",
      " 1 - Celsius\n",
      " 2 - Fahrenheit\n",
      " 3 - Kelvin\n",
      " Número de la unidad:  1\n",
      "Introduce la temperatura: 70\n",
      "Introduce el número correspondiente a la unidad de temperatura de destino\n",
      " 1 - Celsius\n",
      " 2 - Fahrenheit\n",
      " 3 - Kelvin\n",
      " Número de la unidad:  3\n"
     ]
    },
    {
     "name": "stdout",
     "output_type": "stream",
     "text": [
      "70.0º Celsius = 343.15º Kelvin\n"
     ]
    }
   ],
   "source": [
    "unidades_de_temperatura = {\n",
    "    1: \"Celsius\",\n",
    "    2: \"Fahrenheit\",\n",
    "    3: \"Kelvin\"\n",
    "}\n",
    "##funcion para conversion desde Celcius\n",
    "def celsius_fahrenheit(temp):\n",
    "    return (temp * 1.8) + 32\n",
    "    \n",
    "def celsius_kelvin(temp):\n",
    "    return temp + 273.15\n",
    "    \n",
    "##Funcion para conversion desde Farenheit\n",
    "def fahrenheit_celsius(temp):\n",
    "    return (temp - 32) / 1.8\n",
    "    \n",
    "def fahrenheit_kelvin(temp):\n",
    "    return ((temp - 32) / 1.8) + 273.15\n",
    "    \n",
    "##Fncion para conversion desde Kelvin \n",
    "\n",
    "def kelvin_celsius(temp):\n",
    "    return temp - 273.15\n",
    "    \n",
    "def kelvin_fahrenheit(temp):\n",
    "    return ((temp - 273.15) * 1.8) + 32\n",
    "\n",
    "##Diccionario para las converciones\n",
    "conversiones = {\n",
    "    (1, 2): celsius_fahrenheit,\n",
    "    (1, 3): celsius_kelvin,\n",
    "    (2, 1): fahrenheit_celsius,\n",
    "    (2, 3): fahrenheit_kelvin,\n",
    "    (3, 1): kelvin_celsius,\n",
    "    (3, 2): kelvin_fahrenheit\n",
    "}\n",
    "\n",
    "##Definimos la funcion para la conversion\n",
    "def convertir_temperatura(temp_origen, unidad_origen, unidad_destino):\n",
    "    if (unidad_origen, unidad_destino) in conversiones:\n",
    "        return conversiones[(unidad_origen, unidad_destino)](temp_origen)\n",
    "    else:\n",
    "        return \"Conversión no soportada\"\n",
    "\n",
    "##Definimos una funcion para la seleccion de datos\n",
    "def seleccionar_unidad(mensaje):\n",
    "    while True:\n",
    "        try:\n",
    "            unidad = int(input(f\"{mensaje}\"\n",
    "                               \"\\n 1 - Celsius\"\n",
    "                               \"\\n 2 - Fahrenheit\"\n",
    "                               \"\\n 3 - Kelvin\"\n",
    "                               \"\\n Número de la unidad: \"))\n",
    "            if unidad in unidades_de_temperatura:\n",
    "                return unidad\n",
    "            else:\n",
    "                print(\"Por favor, introduce un número válido entre 1 y 3.\")\n",
    "        except ValueError:\n",
    "            print(\"Por favor, introduce un número entero.\")\n",
    "\n",
    "def solicitar_temperatura(solicitar):\n",
    "    return float(input(f\"{solicitar}\"))\n",
    "\n",
    "# Uso de las funciones para solicitar datos\n",
    "unidad_origen = seleccionar_unidad(\"Introduce el número correspondiente a la unidad de temperatura de origen\")\n",
    "temp_origen = solicitar_temperatura(\"Introduce la temperatura:\")\n",
    "unidad_destino = seleccionar_unidad(\"Introduce el número correspondiente a la unidad de temperatura de destino\")\n",
    "\n",
    "nombre_unidad_origen = unidades_de_temperatura[unidad_origen]\n",
    "nombre_unidad_destino = unidades_de_temperatura[unidad_destino]\n",
    "resultado = convertir_temperatura(temp_origen, unidad_origen, unidad_destino)\n",
    "\n",
    "print(f\"{temp_origen}º {nombre_unidad_origen} = {resultado:.2f}º {nombre_unidad_destino}\")"
   ]
  },
  {
   "cell_type": "markdown",
   "id": "bcc97b92-3f1c-4b0a-9b7c-99b09b71fbd4",
   "metadata": {},
   "source": [
    "## Ex03 - Comptador de paraules d'un text.\n",
    "\n",
    "Escriu una funció que donat un text, mostri les vegades que apareix cada paraula."
   ]
  },
  {
   "cell_type": "code",
   "execution_count": 12,
   "id": "117f227d-7449-4140-ac20-7d5a9ba3c296",
   "metadata": {},
   "outputs": [
    {
     "name": "stdin",
     "output_type": "stream",
     "text": [
      "Introduce el texto para contar la frecuencia de las palabras:  Resulta que el client té una enquesta molt antiga que s'emmagatzema en un diccionari i els resultats els necessita al revés, és a dir, intercanviats les claus i els valors. Els valors i claus en el diccionari original són únics; si aquest no és el cas, la funció hauria d'imprimir un missatge d'advertiment.\n"
     ]
    },
    {
     "name": "stdout",
     "output_type": "stream",
     "text": [
      " Hay un total de 56 palabras distribuidas de la siguiente forma:\n",
      "Frecuencia de cada palabra ordenada alfabéticamente:\n",
      "a: 1\n",
      "advertiment: 1\n",
      "al: 1\n",
      "antiga: 1\n",
      "aquest: 1\n",
      "cas: 1\n",
      "claus: 2\n",
      "client: 1\n",
      "d': 2\n",
      "diccionari: 2\n",
      "dir: 1\n",
      "el: 3\n",
      "els: 4\n",
      "emmagatzema: 1\n",
      "en: 2\n",
      "enquesta: 1\n",
      "funció: 1\n",
      "hauria: 1\n",
      "i: 3\n",
      "imprimir: 1\n",
      "intercanviats: 1\n",
      "la: 1\n",
      "les: 1\n",
      "missatge: 1\n",
      "molt: 1\n",
      "necessita: 1\n",
      "no: 1\n",
      "original: 1\n",
      "que: 2\n",
      "resulta: 1\n",
      "resultats: 1\n",
      "revés: 1\n",
      "s': 1\n",
      "si: 1\n",
      "són: 1\n",
      "té: 1\n",
      "un: 2\n",
      "una: 1\n",
      "valors: 2\n",
      "és: 2\n",
      "únics: 1\n"
     ]
    }
   ],
   "source": [
    "from collections import Counter\n",
    "import string\n",
    "\n",
    "punctuation_apost = string.punctuation.replace(\"'\", \"\")\n",
    "\n",
    "texto = input(\"Introduce el texto para contar la frecuencia de las palabras: \")\n",
    "texto = texto.lower().replace(\"'\", \"' \")\n",
    "\n",
    "tabla = str.maketrans('', '', punctuation_apost)\n",
    "texto_limpio = texto.translate(tabla)\n",
    "\n",
    "\n",
    "palabras = texto_limpio.split() \n",
    "\n",
    "contador = Counter(palabras)\n",
    "total = len(palabras)\n",
    "\n",
    "print(f\" Hay un total de {total} palabras distribuidas de la siguiente forma:\")\n",
    "print(\"Frecuencia de cada palabra ordenada alfabéticamente:\")\n",
    "for palabra in sorted(contador):\n",
    "    frecuencia = contador[palabra]\n",
    "    print(f\"{palabra}: {frecuencia}\")\n"
   ]
  },
  {
   "cell_type": "markdown",
   "id": "5ef736be-438e-4537-9ac6-7ed1e0945e9f",
   "metadata": {},
   "source": [
    "## Ex04 Diccionari invers.\n",
    "\n",
    "Resulta que el client té una enquesta molt antiga que s'emmagatzema en un diccionari i els resultats els necessita al revés, és a dir, intercanviats les claus i els valors. Els valors i claus en el diccionari original són únics; si aquest no és el cas, la funció hauria d'imprimir un missatge d'advertiment."
   ]
  },
  {
   "cell_type": "code",
   "execution_count": 4,
   "id": "dfd8c3be-378d-4d79-ab5a-855865bf5eb2",
   "metadata": {},
   "outputs": [
    {
     "name": "stdout",
     "output_type": "stream",
     "text": [
      "Valor duplicado encontrado para la clave '4' con las entradas 'Prueba' y 'loco'\n"
     ]
    }
   ],
   "source": [
    "\n",
    "encuesta = {\n",
    "    \"Esto\": 1,\n",
    "    \"Es\": 2,\n",
    "    \"Una\": 3,\n",
    "    \"Prueba\": 4,\n",
    "    \"loco\": 4\n",
    "}\n",
    "encuesta_invertida = {}\n",
    "\n",
    "for k, v in encuesta.items():\n",
    "    if v in encuesta_invertida:\n",
    "        print(f\"Valor duplicado encontrado para la clave '{v}' con las entradas '{encuesta_invertida[v]}' y '{k}'\")\n",
    "        continue\n",
    "    encuesta_invertida[v] = k\n"
   ]
  },
  {
   "cell_type": "markdown",
   "id": "cbd259b9-c6f3-4a02-9305-65a37744bea7",
   "metadata": {},
   "source": [
    "# Nivel 2"
   ]
  },
  {
   "cell_type": "markdown",
   "id": "3e0b52fe-9953-4de5-93dd-be3602a100bb",
   "metadata": {},
   "source": [
    "### Ex 01 -Diccionari invers amb duplicats\n",
    "\n",
    "Continuant amb l'exercici 4 del nivell 1: al client es va oblidar de comentar un detall i resulta que els valors en el diccionari original poden duplicar-se i més, per la qual cosa les claus intercanviades poden tenir duplicats. En tals casos, els valors del diccionari resultant hauran d'emmagatzemar-se com una llista. Tingues en compte que un valor únic no ha de ser una llista.\n",
    "\n"
   ]
  },
  {
   "cell_type": "code",
   "execution_count": 8,
   "id": "61adca31-e928-412c-9542-6d4d0da28958",
   "metadata": {},
   "outputs": [
    {
     "name": "stdout",
     "output_type": "stream",
     "text": [
      "{1: ['Esto', 'Hola'], 2: 'Es', 3: 'Una', 'ane': ['Prueba', 'Otra'], 'Otra': 'ane', 'Hola': [3, 4]}\n"
     ]
    }
   ],
   "source": [
    "encuesta = {\n",
    "    \"Esto\": 1,\n",
    "    \"Es\": 2,\n",
    "    \"Una\": 3,\n",
    "    \"Prueba\": \"ane\",\n",
    "    \"Otra\": \"ane\",\n",
    "    \"ane\": \"Otra\",\n",
    "    \"Hola\": 1,\n",
    "    3 : \"Hola\",\n",
    "    4:\"Hola\"\n",
    "\n",
    "}\n",
    "encuesta_invertida = {}\n",
    "\n",
    "\n",
    "for k, v in encuesta.items():\n",
    "    if v not in encuesta_invertida:\n",
    "        encuesta_invertida[v] = k\n",
    "    else:\n",
    "        if isinstance(encuesta_invertida[v], list):\n",
    "            encuesta_invertida[v].append(k)\n",
    "        else:\n",
    "            encuesta_invertida[v] = [encuesta_invertida[v], k]\n",
    "\n",
    "print(encuesta_invertida)\n"
   ]
  },
  {
   "cell_type": "markdown",
   "id": "819b4297-5094-41c9-b076-2cf9bfc8f5b4",
   "metadata": {},
   "source": [
    "## Ex02 - Conversió de tipus de dades\n",
    "\n",
    "El client rep una llista de dades i necessita generar dues llistes, la primera on estaran tots els elements que es van poder convertir en flotants i l'altra on estan els elements que no es van poder convertir. Exemple de la llista que rep el client: [ '1.3', 'one' , '1e10' , 'seven', '3-1/2', ('2',1,1.4,'not-a-number'), [1,2,'3','3.4']]"
   ]
  },
  {
   "cell_type": "code",
   "execution_count": 10,
   "id": "e1a22442-4c8c-4f0b-9237-d6fb11a15769",
   "metadata": {},
   "outputs": [
    {
     "name": "stdout",
     "output_type": "stream",
     "text": [
      "['1.3', '1e10', '2', 1, 1.4, 1, 2, '3', '3.4']\n",
      "['one', 'seven', '3-1/2', 'not-a-number']\n"
     ]
    }
   ],
   "source": [
    "def procesar_lista(lista_prueba):\n",
    "    resultado = []\n",
    "    lista_float = []\n",
    "    lista_nofloat = []\n",
    "\n",
    "    def aplanar_y_convertir(elemento):\n",
    "        if isinstance(elemento, (list, tuple)):\n",
    "            for item in elemento:\n",
    "                aplanar_y_convertir(item)\n",
    "        else:\n",
    "            resultado.append(elemento)\n",
    "            try:\n",
    "                num = float(elemento)\n",
    "                lista_float.append(elemento)\n",
    "            except ValueError:\n",
    "                lista_nofloat.append(elemento)\n",
    "\n",
    "    for i in lista_prueba:\n",
    "        aplanar_y_convertir(i)\n",
    "\n",
    "    print(lista_float)\n",
    "    print(lista_nofloat)\n",
    "    \n",
    "lista = [ '1.3', 'one' , '1e10' , 'seven', '3-1/2', ('2',1,1.4,['not-a-number']), [1,2,'3','3.4']]\n",
    "procesar_lista(lista)\n"
   ]
  },
  {
   "cell_type": "markdown",
   "id": "890152d6-4cd6-4662-8bb7-1955147734f8",
   "metadata": {},
   "source": [
    "# Nivel 3"
   ]
  },
  {
   "cell_type": "markdown",
   "id": "b4a3636d-77af-4ffc-ba94-d93eff304357",
   "metadata": {},
   "source": [
    "### Ex01 -Comptador i endreçador de paraules d'un text.\n",
    "\n",
    "El client va quedar content amb el comptador de paraules, però ara vol llegir arxius TXT i que calculi la freqüència de cada paraula ordenades dins de les entrades habituals del diccionari segons la lletra amb la qual comencen, és a dir, les claus han d'anar de la A a la Z i dins de la A hem d'anar de la A la Z. Per exemple, per a l'arxiu \"tu_me_quieres_blanca.txt\" la sortida esperada seria:"
   ]
  },
  {
   "cell_type": "code",
   "execution_count": 11,
   "id": "400674ab-cf95-4fb4-8153-fd0def973e75",
   "metadata": {},
   "outputs": [
    {
     "name": "stdout",
     "output_type": "stream",
     "text": [
      "Hay un total de 202 palabras distribuidas de la siguiente forma:\n",
      "A:{\n",
      "  A: 3\n",
      "  Agua: 1\n",
      "  Al: 2\n",
      "  Alba: 4\n",
      "  Alcobas: 1\n",
      "  Alimenta: 1\n",
      "  Alma: 1\n",
      "  Amarga: 1\n",
      "  Azucena: 1\n",
      "}\n",
      "B:{\n",
      "  Baco: 1\n",
      "  Banquete: 1\n",
      "  Bebe: 1\n",
      "  Blanca: 3\n",
      "  Boca: 1\n",
      "  Bosques: 1\n",
      "  Buen: 1\n",
      "}\n",
      "C:{\n",
      "  Cabañas: 1\n",
      "  Carnes: 2\n",
      "  Casta: 3\n",
      "  Cerrada: 1\n",
      "  Con: 4\n",
      "  Conservas: 1\n",
      "  Copas: 1\n",
      "  Corola: 1\n",
      "  Corriste: 1\n",
      "  Cuando: 2\n",
      "  Cubierto: 1\n",
      "  Cuerpo: 1\n",
      "  Cuáles: 1\n",
      "}\n",
      "D:{\n",
      "  De: 8\n",
      "  Dejaste: 1\n",
      "  Del: 1\n",
      "  Diga: 1\n",
      "  Dios: 2\n",
      "  Duerme: 1\n",
      "}\n",
      "E:{\n",
      "  El: 4\n",
      "  Ellas: 1\n",
      "  En: 4\n",
      "  Engaño: 1\n",
      "  Enredada: 1\n",
      "  Entonces: 1\n",
      "  Escarcha: 1\n",
      "  Espumas: 1\n",
      "  Esqueleto: 1\n",
      "  Estrago: 1\n",
      "}\n",
      "F:{\n",
      "  Festejando: 1\n",
      "  Filtrado: 1\n",
      "  Frutos: 1\n",
      "}\n",
      "H:{\n",
      "  Habla: 1\n",
      "  Hacia: 1\n",
      "  Haya: 1\n",
      "  Hayas: 1\n",
      "  Hermana: 1\n",
      "  Hombre: 1\n",
      "  Hubiste: 1\n",
      "  Huye: 1\n",
      "}\n",
      "I:{\n",
      "  Intacto: 1\n",
      "}\n",
      "J:{\n",
      "  Jardines: 1\n",
      "}\n",
      "L:{\n",
      "  La: 3\n",
      "  Labios: 1\n",
      "  Las: 7\n",
      "  Lo: 2\n",
      "  Los: 4\n",
      "  Luna: 1\n",
      "  Lévate: 1\n",
      "  Límpiate: 1\n",
      "}\n",
      "M:{\n",
      "  Mano: 1\n",
      "  Manos: 1\n",
      "  Margarita: 1\n",
      "  Me: 10\n",
      "  Mi: 1\n",
      "  Mieles: 1\n",
      "  Milagros: 1\n",
      "  Mojada: 1\n",
      "  Montaña: 1\n",
      "  Morados: 1\n",
      "}\n",
      "N:{\n",
      "  Negros: 1\n",
      "  Ni: 2\n",
      "  No: 1\n",
      "  Nácar: 1\n",
      "  Nívea: 2\n",
      "}\n",
      "P:{\n",
      "  Perdone: 2\n",
      "  Perfume: 1\n",
      "  Por: 2\n",
      "  Pretendes: 3\n",
      "  Preténdeme: 3\n",
      "  Puesto: 1\n",
      "  Pájaros: 1\n",
      "  Pámpanos: 1\n",
      "}\n",
      "Q:{\n",
      "  Que: 6\n",
      "  Quedó: 1\n",
      "  Quieres: 6\n",
      "}\n",
      "R:{\n",
      "  Rayo: 1\n",
      "  Raíz: 1\n",
      "  Renueva: 1\n",
      "  Rocas: 1\n",
      "  Rojo: 1\n",
      "}\n",
      "S:{\n",
      "  Salitre: 1\n",
      "  Se: 2\n",
      "  Sea: 1\n",
      "  Sean: 1\n",
      "  Sobre: 2\n",
      "  Sé: 1\n",
      "}\n",
      "T:{\n",
      "  Te: 3\n",
      "  Tejidos: 1\n",
      "  Tenue: 1\n",
      "  Tierra: 1\n",
      "  Toca: 1\n",
      "  Todas: 2\n",
      "  Todavía: 1\n",
      "  Tornadas: 1\n",
      "  Tú: 8\n",
      "}\n",
      "U:{\n",
      "  Un: 1\n",
      "  Una: 1\n",
      "}\n",
      "V:{\n",
      "  Vestido: 1\n",
      "  Vete: 1\n",
      "  Vive: 1\n",
      "}\n",
      "Y:{\n",
      "  Y: 5\n",
      "}\n"
     ]
    }
   ],
   "source": [
    "from collections import Counter\n",
    "import string\n",
    "\n",
    "puntuacion_extra = string.punctuation + '¡¿«»“”‘’'\n",
    "\n",
    "with open('tu_me_quieres_blanca.txt', 'r', encoding='utf-8') as archivo:\n",
    "    contenido = archivo.read() \n",
    "\n",
    "\n",
    "\n",
    "tabla = str.maketrans('', '', puntuacion_extra)\n",
    "texto_limpio =contenido.translate(tabla)\n",
    "palabras = texto_limpio.split()\n",
    "\n",
    "\n",
    "\n",
    "contador = {}\n",
    "for palabra in palabras:\n",
    "    palabra = palabra.capitalize()\n",
    "    \n",
    "    if palabra in contador:\n",
    "        contador[palabra] += 1       \n",
    "    else:\n",
    "        contador[palabra] = 1\n",
    "\n",
    "\n",
    "contador_alfabetico = {}\n",
    "for palabra, frecuencia in contador.items():\n",
    "    inicial = palabra[0]\n",
    "    if inicial not in contador_alfabetico:\n",
    "        contador_alfabetico[inicial] = {}\n",
    "    contador_alfabetico[inicial][palabra] = frecuencia\n",
    "\n",
    "total=len(palabras)\n",
    "\n",
    "\n",
    "print(f\"Hay un total de {total} palabras distribuidas de la siguiente forma:\")\n",
    "for letra, palabras in sorted(contador_alfabetico.items()):\n",
    "    print(f\"{letra}:\"\"{\")\n",
    "    for palabra, frecuencia in sorted(palabras.items()):\n",
    "        print(f\"  {palabra}: {frecuencia}\")\n",
    "    print(\"}\")\n"
   ]
  },
  {
   "cell_type": "code",
   "execution_count": null,
   "id": "1f527a4f-9f2a-4ec7-bbfc-e10b911017d1",
   "metadata": {},
   "outputs": [],
   "source": []
  },
  {
   "cell_type": "code",
   "execution_count": null,
   "id": "f86157b8-25a7-4a4d-a764-73dd3054e83f",
   "metadata": {},
   "outputs": [],
   "source": []
  }
 ],
 "metadata": {
  "kernelspec": {
   "display_name": "Python 3 (ipykernel)",
   "language": "python",
   "name": "python3"
  },
  "language_info": {
   "codemirror_mode": {
    "name": "ipython",
    "version": 3
   },
   "file_extension": ".py",
   "mimetype": "text/x-python",
   "name": "python",
   "nbconvert_exporter": "python",
   "pygments_lexer": "ipython3",
   "version": "3.10.11"
  }
 },
 "nbformat": 4,
 "nbformat_minor": 5
}
